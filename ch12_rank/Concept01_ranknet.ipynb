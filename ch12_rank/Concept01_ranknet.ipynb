{
 "cells": [
  {
   "cell_type": "markdown",
   "metadata": {},
   "source": [
    "# Ch `12`: Concept `01`"
   ]
  },
  {
   "cell_type": "markdown",
   "metadata": {},
   "source": [
    "### Ranking by neural network"
   ]
  },
  {
   "cell_type": "code",
   "execution_count": 1,
   "metadata": {
    "collapsed": true
   },
   "outputs": [],
   "source": [
    "%matplotlib inline\n",
    "from matplotlib import pyplot as plt \n",
    "import tensorflow as tf\n",
    "import numpy as np"
   ]
  },
  {
   "cell_type": "code",
   "execution_count": 2,
   "metadata": {},
   "outputs": [
    {
     "data": {
      "text/plain": [
       "<matplotlib.collections.PathCollection at 0x7f57b5c56320>"
      ]
     },
     "execution_count": 2,
     "metadata": {},
     "output_type": "execute_result"
    },
    {
     "data": {
      "image/png": "[encoded data removed]",
      "text/plain": [
       "<matplotlib.figure.Figure at 0x7f57b5e267b8>"
      ]
     },
     "metadata": {},
     "output_type": "display_data"
    }
   ],
   "source": [
    "n_features = 2\n",
    "data_a = np.random.rand(10, n_features)\n",
    "data_b = np.random.rand(10, n_features) + 1\n",
    "\n",
    "plt.scatter(data_a[:, 0], data_a[:, 1], c='r', marker='x')\n",
    "plt.scatter(data_b[:, 0], data_b[:, 1], c='g', marker='o')"
   ]
  },
  {
   "cell_type": "code",
   "execution_count": 3,
   "metadata": {},
   "outputs": [],
   "source": [
    "data_a_plc = tf.placeholder(dtype=tf.float32, \n",
    "                            shape=[None, n_features])\n",
    "data_b_plc = tf.placeholder(dtype=tf.float32, \n",
    "                            shape=[None, n_features])\n",
    "\n",
    "def get_scores(x):\n",
    "    layers = [x]\n",
    "    layer_sizes = [n_features, 10, 5, 1]\n",
    "    for layer_idx in range(len(layer_sizes) - 1):\n",
    "        source_size = layer_sizes[layer_idx]\n",
    "        target_size = layer_sizes[layer_idx + 1]\n",
    "\n",
    "        w = tf.get_variable(name='weight_{}'.format(layer_idx),\n",
    "                            shape=[source_size, target_size],\n",
    "                            initializer=tf.random_normal_initializer())\n",
    "        b = tf.get_variable(name='bias_{}'.format(layer_idx),\n",
    "                            shape=[target_size],\n",
    "                            initializer=tf.constant_initializer(0.0))\n",
    "        h = tf.nn.relu(tf.nn.xw_plus_b(layers[-1], w, b), \n",
    "                       name='layer_{}'.format(layer_idx))\n",
    "        layers.append(h)\n",
    "\n",
    "    return layers[-1]\n",
    "\n",
    "with tf.variable_scope(\"scores\"):\n",
    "    scores_a = get_scores(data_a_plc)\n",
    "    \n",
    "with tf.variable_scope(\"scores\", reuse=True):\n",
    "    scores_b = get_scores(data_b_plc)\n",
    "    \n",
    "   \n",
    "sigma = 1.0\n",
    "cost = tf.reduce_mean(\n",
    "    tf.log(\n",
    "        1 + tf.exp(-sigma * (scores_a - scores_b))\n",
    "    )\n",
    ")\n",
    "\n",
    "train_op = tf.train.AdamOptimizer(0.01).minimize(cost)"
   ]
  },
  {
   "cell_type": "code",
   "execution_count": 4,
   "metadata": {},
   "outputs": [],
   "source": [
    "init_op = tf.global_variables_initializer()\n",
    "sess = tf.InteractiveSession()\n",
    "sess.run(init_op)"
   ]
  },
  {
   "cell_type": "code",
   "execution_count": 5,
   "metadata": {
    "collapsed": true
   },
   "outputs": [],
   "source": [
    "grid_size = 10\n",
    "data_test = []\n",
    "for x in np.linspace(0., 1., num=grid_size):\n",
    "    for y in np.linspace(0., 1., num=grid_size):\n",
    "        data_test.append([x, y])"
   ]
  },
  {
   "cell_type": "code",
   "execution_count": 6,
   "metadata": {
    "collapsed": true
   },
   "outputs": [],
   "source": [
    "def visualize_results():\n",
    "    plt.figure()\n",
    "    scores_test = sess.run(scores_a, feed_dict={data_a_plc: data_test})\n",
    "    scores_img = np.reshape(scores_test, [grid_size, grid_size])\n",
    "    plt.imshow(scores_img, origin='lower')\n",
    "    plt.colorbar()"
   ]
  },
  {
   "cell_type": "code",
   "execution_count": 7,
   "metadata": {
    "scrolled": true
   },
   "outputs": [
    {
     "name": "stdout",
     "output_type": "stream",
     "text": [
      "0. 3.9353301525115967\n",
      "1. 3.5899276733398438\n",
      "2. 3.2409753799438477\n",
      "3. 2.919987201690674\n",
      "4. 2.66825008392334\n"
     ]
    },
    {
     "data": {
      "image/png": "[encoded data removed]",
      "text/plain": [
       "<matplotlib.figure.Figure at 0x7f57b5c4c7b8>"
      ]
     },
     "metadata": {},
     "output_type": "display_data"
    }
   ],
   "source": [
    "for epoch in range(5):\n",
    "    _, cost_val = sess.run([train_op, cost], feed_dict={data_a_plc: data_a, data_b_plc: data_b})\n",
    "    print('{}. {}'.format(epoch, cost_val))\n",
    "visualize_results()"
   ]
  }
 ],
 "metadata": {
  "kernelspec": {
   "display_name": "Python 3",
   "language": "python",
   "name": "python3"
  },
  "language_info": {
   "codemirror_mode": {
    "name": "ipython",
    "version": 3
   },
   "file_extension": ".py",
   "mimetype": "text/x-python",
   "name": "python",
   "nbconvert_exporter": "python",
   "pygments_lexer": "ipython3",
   "version": "3.5.2"
  }
 },
 "nbformat": 4,
 "nbformat_minor": 2
}
